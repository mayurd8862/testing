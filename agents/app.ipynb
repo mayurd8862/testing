{
 "cells": [
  {
   "cell_type": "code",
   "execution_count": 16,
   "metadata": {},
   "outputs": [],
   "source": [
    "import pandas as pd"
   ]
  },
  {
   "cell_type": "code",
   "execution_count": 47,
   "metadata": {},
   "outputs": [
    {
     "data": {
      "text/html": [
       "<div>\n",
       "<style scoped>\n",
       "    .dataframe tbody tr th:only-of-type {\n",
       "        vertical-align: middle;\n",
       "    }\n",
       "\n",
       "    .dataframe tbody tr th {\n",
       "        vertical-align: top;\n",
       "    }\n",
       "\n",
       "    .dataframe thead th {\n",
       "        text-align: right;\n",
       "    }\n",
       "</style>\n",
       "<table border=\"1\" class=\"dataframe\">\n",
       "  <thead>\n",
       "    <tr style=\"text-align: right;\">\n",
       "      <th></th>\n",
       "      <th>ProductName</th>\n",
       "      <th>Nutrient_category</th>\n",
       "      <th>Description</th>\n",
       "      <th>Contents</th>\n",
       "      <th>Formulated for</th>\n",
       "      <th>Suplements Facts</th>\n",
       "      <th>Suplements Facts Images</th>\n",
       "      <th>Product_Image</th>\n",
       "      <th>QR_Video</th>\n",
       "      <th>FORMULATION ADVANTAGE:</th>\n",
       "      <th>Amino Acid Profile Per Serving</th>\n",
       "      <th>Benefits</th>\n",
       "      <th>Pdf link</th>\n",
       "    </tr>\n",
       "  </thead>\n",
       "  <tbody>\n",
       "    <tr>\n",
       "      <th>0</th>\n",
       "      <td>4sight</td>\n",
       "      <td>NaN</td>\n",
       "      <td>4sight is formulated with a specific blend of ...</td>\n",
       "      <td>The eye is the organ most susceptible to oxida...</td>\n",
       "      <td>EYE HEALTH</td>\n",
       "      <td>NaN</td>\n",
       "      <td>https://drive.google.com/uc?export=view&amp;id=1NM...</td>\n",
       "      <td>https://drive.google.com/uc?export=view&amp;id=1RY...</td>\n",
       "      <td>NaN</td>\n",
       "      <td>NaN</td>\n",
       "      <td>NaN</td>\n",
       "      <td>NaN</td>\n",
       "      <td>https://drive.google.com/file/d/17aT6hgZQOPLEi...</td>\n",
       "    </tr>\n",
       "    <tr>\n",
       "      <th>1</th>\n",
       "      <td>5-HTP</td>\n",
       "      <td>NaN</td>\n",
       "      <td>5-hydroxytryptophan (5-HTP) is an amino acid t...</td>\n",
       "      <td>5-hydroxytryptophan (5-HTP) is an amino acid t...</td>\n",
       "      <td>MOOD SUPPORT</td>\n",
       "      <td>NaN</td>\n",
       "      <td>https://drive.google.com/uc?export=view&amp;id=18b...</td>\n",
       "      <td>https://drive.google.com/uc?export=view&amp;id=1iz...</td>\n",
       "      <td>NaN</td>\n",
       "      <td>NaN</td>\n",
       "      <td>NaN</td>\n",
       "      <td>NaN</td>\n",
       "      <td>https://drive.google.com/file/d/17aT6hgZQOPLEi...</td>\n",
       "    </tr>\n",
       "    <tr>\n",
       "      <th>2</th>\n",
       "      <td>Adapten-All®</td>\n",
       "      <td>NaN</td>\n",
       "      <td>Formulated for those who are “stressed and tir...</td>\n",
       "      <td>Extended periods of stress not only burden the...</td>\n",
       "      <td>ENDOCRINE HEALTH</td>\n",
       "      <td>NaN</td>\n",
       "      <td>https://drive.google.com/uc?export=view&amp;id=12d...</td>\n",
       "      <td>https://drive.google.com/uc?export=view&amp;id=1Tp...</td>\n",
       "      <td>NaN</td>\n",
       "      <td>NaN</td>\n",
       "      <td>NaN</td>\n",
       "      <td>NaN</td>\n",
       "      <td>https://drive.google.com/file/d/17aT6hgZQOPLEi...</td>\n",
       "    </tr>\n",
       "    <tr>\n",
       "      <th>3</th>\n",
       "      <td>Adren-All®</td>\n",
       "      <td>NaN</td>\n",
       "      <td>Formulated for those who are “stressed and tir...</td>\n",
       "      <td>Adren-All® is a powerful formulation that help...</td>\n",
       "      <td>ENDOCRINE HEALTH</td>\n",
       "      <td>NaN</td>\n",
       "      <td>https://drive.google.com/uc?export=view&amp;id=1hm...</td>\n",
       "      <td>https://drive.google.com/uc?export=view&amp;id=1qa...</td>\n",
       "      <td>NaN</td>\n",
       "      <td>NaN</td>\n",
       "      <td>NaN</td>\n",
       "      <td>NaN</td>\n",
       "      <td>https://drive.google.com/file/d/17aT6hgZQOPLEi...</td>\n",
       "    </tr>\n",
       "    <tr>\n",
       "      <th>4</th>\n",
       "      <td>AdreneVive®</td>\n",
       "      <td>NaN</td>\n",
       "      <td>Formulated for those who are “stressed and wir...</td>\n",
       "      <td>Stress is defined as any disturbance (extreme ...</td>\n",
       "      <td>ENDOCRINE HEALTH</td>\n",
       "      <td>NaN</td>\n",
       "      <td>https://drive.google.com/uc?export=view&amp;id=1uj...</td>\n",
       "      <td>https://drive.google.com/uc?export=view&amp;id=1ew...</td>\n",
       "      <td>NaN</td>\n",
       "      <td>NaN</td>\n",
       "      <td>NaN</td>\n",
       "      <td>NaN</td>\n",
       "      <td>https://drive.google.com/file/d/17aT6hgZQOPLEi...</td>\n",
       "    </tr>\n",
       "  </tbody>\n",
       "</table>\n",
       "</div>"
      ],
      "text/plain": [
       "    ProductName Nutrient_category  \\\n",
       "0        4sight               NaN   \n",
       "1         5-HTP               NaN   \n",
       "2  Adapten-All®               NaN   \n",
       "3    Adren-All®               NaN   \n",
       "4   AdreneVive®               NaN   \n",
       "\n",
       "                                        Description   \\\n",
       "0  4sight is formulated with a specific blend of ...   \n",
       "1  5-hydroxytryptophan (5-HTP) is an amino acid t...   \n",
       "2  Formulated for those who are “stressed and tir...   \n",
       "3  Formulated for those who are “stressed and tir...   \n",
       "4  Formulated for those who are “stressed and wir...   \n",
       "\n",
       "                                            Contents    Formulated for  \\\n",
       "0  The eye is the organ most susceptible to oxida...        EYE HEALTH   \n",
       "1  5-hydroxytryptophan (5-HTP) is an amino acid t...      MOOD SUPPORT   \n",
       "2  Extended periods of stress not only burden the...  ENDOCRINE HEALTH   \n",
       "3  Adren-All® is a powerful formulation that help...  ENDOCRINE HEALTH   \n",
       "4  Stress is defined as any disturbance (extreme ...  ENDOCRINE HEALTH   \n",
       "\n",
       "  Suplements Facts                            Suplements Facts Images  \\\n",
       "0              NaN  https://drive.google.com/uc?export=view&id=1NM...   \n",
       "1              NaN  https://drive.google.com/uc?export=view&id=18b...   \n",
       "2              NaN  https://drive.google.com/uc?export=view&id=12d...   \n",
       "3              NaN  https://drive.google.com/uc?export=view&id=1hm...   \n",
       "4              NaN  https://drive.google.com/uc?export=view&id=1uj...   \n",
       "\n",
       "                                       Product_Image QR_Video  \\\n",
       "0  https://drive.google.com/uc?export=view&id=1RY...      NaN   \n",
       "1  https://drive.google.com/uc?export=view&id=1iz...      NaN   \n",
       "2  https://drive.google.com/uc?export=view&id=1Tp...      NaN   \n",
       "3  https://drive.google.com/uc?export=view&id=1qa...      NaN   \n",
       "4  https://drive.google.com/uc?export=view&id=1ew...      NaN   \n",
       "\n",
       "  FORMULATION ADVANTAGE: Amino Acid Profile Per Serving Benefits  \\\n",
       "0                    NaN                            NaN      NaN   \n",
       "1                    NaN                            NaN      NaN   \n",
       "2                    NaN                            NaN      NaN   \n",
       "3                    NaN                            NaN      NaN   \n",
       "4                    NaN                            NaN      NaN   \n",
       "\n",
       "                                           Pdf link   \n",
       "0  https://drive.google.com/file/d/17aT6hgZQOPLEi...  \n",
       "1  https://drive.google.com/file/d/17aT6hgZQOPLEi...  \n",
       "2  https://drive.google.com/file/d/17aT6hgZQOPLEi...  \n",
       "3  https://drive.google.com/file/d/17aT6hgZQOPLEi...  \n",
       "4  https://drive.google.com/file/d/17aT6hgZQOPLEi...  "
      ]
     },
     "execution_count": 47,
     "metadata": {},
     "output_type": "execute_result"
    }
   ],
   "source": [
    "df = pd.read_csv('C:/Users/mayur/Desktop/FRACSNET/knowledge/supplements_data.csv')\n",
    "df.head()"
   ]
  },
  {
   "cell_type": "code",
   "execution_count": null,
   "metadata": {},
   "outputs": [],
   "source": []
  },
  {
   "cell_type": "code",
   "execution_count": 18,
   "metadata": {},
   "outputs": [
    {
     "data": {
      "text/html": [
       "<div>\n",
       "<style scoped>\n",
       "    .dataframe tbody tr th:only-of-type {\n",
       "        vertical-align: middle;\n",
       "    }\n",
       "\n",
       "    .dataframe tbody tr th {\n",
       "        vertical-align: top;\n",
       "    }\n",
       "\n",
       "    .dataframe thead th {\n",
       "        text-align: right;\n",
       "    }\n",
       "</style>\n",
       "<table border=\"1\" class=\"dataframe\">\n",
       "  <thead>\n",
       "    <tr style=\"text-align: right;\">\n",
       "      <th></th>\n",
       "      <th>ProductName</th>\n",
       "      <th>Nutrient_category</th>\n",
       "      <th>Description</th>\n",
       "      <th>Contents</th>\n",
       "      <th>Formulated for</th>\n",
       "      <th>Suplements Facts</th>\n",
       "      <th>Suplements Facts Images</th>\n",
       "      <th>Product_Image</th>\n",
       "      <th>QR_Video</th>\n",
       "      <th>FORMULATION ADVANTAGE:</th>\n",
       "      <th>Amino Acid Profile Per Serving</th>\n",
       "      <th>Benefits</th>\n",
       "      <th>Pdf link</th>\n",
       "    </tr>\n",
       "  </thead>\n",
       "  <tbody>\n",
       "    <tr>\n",
       "      <th>count</th>\n",
       "      <td>173</td>\n",
       "      <td>81</td>\n",
       "      <td>168</td>\n",
       "      <td>160</td>\n",
       "      <td>167</td>\n",
       "      <td>67</td>\n",
       "      <td>95</td>\n",
       "      <td>136</td>\n",
       "      <td>55</td>\n",
       "      <td>48</td>\n",
       "      <td>8</td>\n",
       "      <td>73</td>\n",
       "      <td>173</td>\n",
       "    </tr>\n",
       "    <tr>\n",
       "      <th>unique</th>\n",
       "      <td>147</td>\n",
       "      <td>73</td>\n",
       "      <td>156</td>\n",
       "      <td>149</td>\n",
       "      <td>105</td>\n",
       "      <td>67</td>\n",
       "      <td>95</td>\n",
       "      <td>126</td>\n",
       "      <td>46</td>\n",
       "      <td>47</td>\n",
       "      <td>4</td>\n",
       "      <td>67</td>\n",
       "      <td>1</td>\n",
       "    </tr>\n",
       "    <tr>\n",
       "      <th>top</th>\n",
       "      <td>Core Restore®</td>\n",
       "      <td>Essential Vitamins, Cardiovascular Health, Mus...</td>\n",
       "      <td>InosiCare is a cutting-edge inositol formula t...</td>\n",
       "      <td>GlutaShield® includes nutrients to support the...</td>\n",
       "      <td>ENDOCRINE HEALTH</td>\n",
       "      <td>Alpha-Lipoic Acid 300 mg per serving</td>\n",
       "      <td>https://drive.google.com/uc?export=view&amp;id=1NM...</td>\n",
       "      <td>https://drive.google.com/uc?export=view&amp;id=1wx...</td>\n",
       "      <td>https://drive.google.com/uc?export=view&amp;id=1VK...</td>\n",
       "      <td>Our USP vitamin C is buffered and balanced wit...</td>\n",
       "      <td>Alanine: 870 mg, Arginine: 1,510 mg, Aspartic ...</td>\n",
       "      <td>1)Maintain : Strengthen gut immune barrier \\nw...</td>\n",
       "      <td>https://drive.google.com/file/d/17aT6hgZQOPLEi...</td>\n",
       "    </tr>\n",
       "    <tr>\n",
       "      <th>freq</th>\n",
       "      <td>5</td>\n",
       "      <td>4</td>\n",
       "      <td>3</td>\n",
       "      <td>3</td>\n",
       "      <td>5</td>\n",
       "      <td>1</td>\n",
       "      <td>1</td>\n",
       "      <td>3</td>\n",
       "      <td>3</td>\n",
       "      <td>2</td>\n",
       "      <td>3</td>\n",
       "      <td>3</td>\n",
       "      <td>173</td>\n",
       "    </tr>\n",
       "  </tbody>\n",
       "</table>\n",
       "</div>"
      ],
      "text/plain": [
       "          ProductName                                  Nutrient_category  \\\n",
       "count             173                                                 81   \n",
       "unique            147                                                 73   \n",
       "top     Core Restore®  Essential Vitamins, Cardiovascular Health, Mus...   \n",
       "freq                5                                                  4   \n",
       "\n",
       "                                             Description   \\\n",
       "count                                                 168   \n",
       "unique                                                156   \n",
       "top     InosiCare is a cutting-edge inositol formula t...   \n",
       "freq                                                    3   \n",
       "\n",
       "                                                 Contents    Formulated for  \\\n",
       "count                                                 160               167   \n",
       "unique                                                149               105   \n",
       "top     GlutaShield® includes nutrients to support the...  ENDOCRINE HEALTH   \n",
       "freq                                                    3                 5   \n",
       "\n",
       "                            Suplements Facts  \\\n",
       "count                                     67   \n",
       "unique                                    67   \n",
       "top     Alpha-Lipoic Acid 300 mg per serving   \n",
       "freq                                       1   \n",
       "\n",
       "                                  Suplements Facts Images  \\\n",
       "count                                                  95   \n",
       "unique                                                 95   \n",
       "top     https://drive.google.com/uc?export=view&id=1NM...   \n",
       "freq                                                    1   \n",
       "\n",
       "                                            Product_Image  \\\n",
       "count                                                 136   \n",
       "unique                                                126   \n",
       "top     https://drive.google.com/uc?export=view&id=1wx...   \n",
       "freq                                                    3   \n",
       "\n",
       "                                                 QR_Video  \\\n",
       "count                                                  55   \n",
       "unique                                                 46   \n",
       "top     https://drive.google.com/uc?export=view&id=1VK...   \n",
       "freq                                                    3   \n",
       "\n",
       "                                   FORMULATION ADVANTAGE:  \\\n",
       "count                                                  48   \n",
       "unique                                                 47   \n",
       "top     Our USP vitamin C is buffered and balanced wit...   \n",
       "freq                                                    2   \n",
       "\n",
       "                           Amino Acid Profile Per Serving  \\\n",
       "count                                                   8   \n",
       "unique                                                  4   \n",
       "top     Alanine: 870 mg, Arginine: 1,510 mg, Aspartic ...   \n",
       "freq                                                    3   \n",
       "\n",
       "                                                 Benefits  \\\n",
       "count                                                  73   \n",
       "unique                                                 67   \n",
       "top     1)Maintain : Strengthen gut immune barrier \\nw...   \n",
       "freq                                                    3   \n",
       "\n",
       "                                                Pdf link   \n",
       "count                                                 173  \n",
       "unique                                                  1  \n",
       "top     https://drive.google.com/file/d/17aT6hgZQOPLEi...  \n",
       "freq                                                  173  "
      ]
     },
     "execution_count": 18,
     "metadata": {},
     "output_type": "execute_result"
    }
   ],
   "source": [
    "df.describe()"
   ]
  },
  {
   "cell_type": "code",
   "execution_count": 45,
   "metadata": {},
   "outputs": [
    {
     "name": "stdout",
     "output_type": "stream",
     "text": [
      "<class 'pandas.core.frame.DataFrame'>\n",
      "RangeIndex: 173 entries, 0 to 172\n",
      "Data columns (total 3 columns):\n",
      " #   Column          Non-Null Count  Dtype \n",
      "---  ------          --------------  ----- \n",
      " 0   ID              173 non-null    int64 \n",
      " 1   Formulated for  167 non-null    object\n",
      " 2   Contents        160 non-null    object\n",
      "dtypes: int64(1), object(2)\n",
      "memory usage: 4.2+ KB\n"
     ]
    }
   ],
   "source": [
    "df.info()"
   ]
  },
  {
   "cell_type": "code",
   "execution_count": 48,
   "metadata": {},
   "outputs": [
    {
     "data": {
      "text/plain": [
       "ProductName                         0\n",
       "Nutrient_category                  92\n",
       "Description                         5\n",
       "Contents                           13\n",
       "Formulated for                      6\n",
       "Suplements Facts                  106\n",
       "Suplements Facts Images            78\n",
       "Product_Image                      37\n",
       "QR_Video                          118\n",
       "FORMULATION ADVANTAGE:            125\n",
       "Amino Acid Profile Per Serving    165\n",
       "Benefits                          100\n",
       "Pdf link                            0\n",
       "dtype: int64"
      ]
     },
     "execution_count": 48,
     "metadata": {},
     "output_type": "execute_result"
    }
   ],
   "source": [
    "df.isnull().sum()"
   ]
  },
  {
   "cell_type": "code",
   "execution_count": 21,
   "metadata": {},
   "outputs": [
    {
     "name": "stdout",
     "output_type": "stream",
     "text": [
      "      ID       ProductName                 Nutrient_category  \\\n",
      "0      1            4sight                               NaN   \n",
      "1      2             5-HTP                               NaN   \n",
      "2      3      Adapten-All®                               NaN   \n",
      "3      4        Adren-All®                               NaN   \n",
      "4      5       AdreneVive®                               NaN   \n",
      "..   ...               ...                               ...   \n",
      "168  169          TruAdapt                  Endocrine Health   \n",
      "169  170       SBI Protect  Immune & Gastrointestinal Health   \n",
      "170  171              SAMe                Essential Nutrient   \n",
      "171  172  Reacted Selenium                Essential Minerals   \n",
      "172  173      Reacted Zinc                Essential Minerals   \n",
      "\n",
      "                                          Description   \\\n",
      "0    4sight is formulated with a specific blend of ...   \n",
      "1    5-hydroxytryptophan (5-HTP) is an amino acid t...   \n",
      "2    Formulated for those who are “stressed and tir...   \n",
      "3    Formulated for those who are “stressed and tir...   \n",
      "4    Formulated for those who are “stressed and wir...   \n",
      "..                                                 ...   \n",
      "168  Adaptogenic blend to help with stress resilien...   \n",
      "169  Serum-derived bovine immunoglobulins to suppor...   \n",
      "170  Supports neurotransmitter synthesis, mood bala...   \n",
      "171  Provides selenium in chelated form for optimal...   \n",
      "172     Provides highly absorbed zinc in chelated form   \n",
      "\n",
      "                                              Contents  \\\n",
      "0    The eye is the organ most susceptible to oxida...   \n",
      "1    5-hydroxytryptophan (5-HTP) is an amino acid t...   \n",
      "2    Extended periods of stress not only burden the...   \n",
      "3    Adren-All® is a powerful formulation that help...   \n",
      "4    Stress is defined as any disturbance (extreme ...   \n",
      "..                                                 ...   \n",
      "168  Holy Basil, Ashwagandha Root Extract, Rhodiola...   \n",
      "169    Serum-Derived Bovine Immunoglobulin Concentrate   \n",
      "170  S-Adenosyl-L-methionine disulfate p-toluenesul...   \n",
      "171           Selenium (as Selenium Glycinate Complex)   \n",
      "172  Zinc (as Albion® Minerals Zinc Bisglycinate Ch...   \n",
      "\n",
      "                        Formulated for  \\\n",
      "0                           EYE HEALTH   \n",
      "1                         MOOD SUPPORT   \n",
      "2                     ENDOCRINE HEALTH   \n",
      "3                     ENDOCRINE HEALTH   \n",
      "4                     ENDOCRINE HEALTH   \n",
      "..                                 ...   \n",
      "168                   Endocrine Health   \n",
      "169   Immune & Gastrointestinal Health   \n",
      "170                       Mood Support   \n",
      "171   Essential Minerals, Men’s Health   \n",
      "172  Essential Minerals, Immune Health   \n",
      "\n",
      "                                      Suplements Facts  \\\n",
      "0                                                  NaN   \n",
      "1                                                  NaN   \n",
      "2                                                  NaN   \n",
      "3                                                  NaN   \n",
      "4                                                  NaN   \n",
      "..                                                 ...   \n",
      "168  contains 300 mg of Holy Basil (Ocimum sanctum)...   \n",
      "169  This supplement, available in both capsule and...   \n",
      "170  Serving Size: 2 Capsules, Folate (400 mcg as Q...   \n",
      "171        Serving Size: 1 Capsule, Selenium (200 mcg)   \n",
      "172              Serving Size: 1 Capsule, Zinc (54 mg)   \n",
      "\n",
      "                               Suplements Facts Images  \\\n",
      "0    https://drive.google.com/uc?export=view&id=1NM...   \n",
      "1    https://drive.google.com/uc?export=view&id=18b...   \n",
      "2    https://drive.google.com/uc?export=view&id=12d...   \n",
      "3    https://drive.google.com/uc?export=view&id=1hm...   \n",
      "4    https://drive.google.com/uc?export=view&id=1uj...   \n",
      "..                                                 ...   \n",
      "168                                                NaN   \n",
      "169                                                NaN   \n",
      "170                                                NaN   \n",
      "171                                                NaN   \n",
      "172                                                NaN   \n",
      "\n",
      "                                         Product_Image  \\\n",
      "0    https://drive.google.com/uc?export=view&id=1RY...   \n",
      "1    https://drive.google.com/uc?export=view&id=1iz...   \n",
      "2    https://drive.google.com/uc?export=view&id=1Tp...   \n",
      "3    https://drive.google.com/uc?export=view&id=1qa...   \n",
      "4    https://drive.google.com/uc?export=view&id=1ew...   \n",
      "..                                                 ...   \n",
      "168  https://drive.google.com/uc?export=view&id=1vA...   \n",
      "169  https://drive.google.com/uc?export=view&id=1un...   \n",
      "170  https://drive.google.com/uc?export=view&id=14C...   \n",
      "171  https://drive.google.com/uc?export=view&id=1KJ...   \n",
      "172  https://drive.google.com/uc?export=view&id=1L8...   \n",
      "\n",
      "                                              QR_Video FORMULATION ADVANTAGE:  \\\n",
      "0                                                  NaN                    NaN   \n",
      "1                                                  NaN                    NaN   \n",
      "2                                                  NaN                    NaN   \n",
      "3                                                  NaN                    NaN   \n",
      "4                                                  NaN                    NaN   \n",
      "..                                                 ...                    ...   \n",
      "168  https://drive.google.com/uc?export=view&id=14F...                    NaN   \n",
      "169  https://drive.google.com/uc?export=view&id=1CH...                    NaN   \n",
      "170                                                NaN                    NaN   \n",
      "171                                                NaN                    NaN   \n",
      "172                                                NaN                    NaN   \n",
      "\n",
      "    Amino Acid Profile Per Serving  \\\n",
      "0                              NaN   \n",
      "1                              NaN   \n",
      "2                              NaN   \n",
      "3                              NaN   \n",
      "4                              NaN   \n",
      "..                             ...   \n",
      "168                            NaN   \n",
      "169                            NaN   \n",
      "170                            NaN   \n",
      "171                            NaN   \n",
      "172                            NaN   \n",
      "\n",
      "                                              Benefits  \\\n",
      "0                                                  NaN   \n",
      "1                                                  NaN   \n",
      "2                                                  NaN   \n",
      "3                                                  NaN   \n",
      "4                                                  NaN   \n",
      "..                                                 ...   \n",
      "168  Helps stress resilience, improves attention, i...   \n",
      "169  \\tMaintains microbial balance, supports GI/imm...   \n",
      "170  Supports mood stability, joint comfort, and ne...   \n",
      "171  Supports mood, antioxidant function, and heart...   \n",
      "172  Supports immune function, tissue growth, and a...   \n",
      "\n",
      "                                             Pdf link   \n",
      "0    https://drive.google.com/file/d/17aT6hgZQOPLEi...  \n",
      "1    https://drive.google.com/file/d/17aT6hgZQOPLEi...  \n",
      "2    https://drive.google.com/file/d/17aT6hgZQOPLEi...  \n",
      "3    https://drive.google.com/file/d/17aT6hgZQOPLEi...  \n",
      "4    https://drive.google.com/file/d/17aT6hgZQOPLEi...  \n",
      "..                                                 ...  \n",
      "168  https://drive.google.com/file/d/17aT6hgZQOPLEi...  \n",
      "169  https://drive.google.com/file/d/17aT6hgZQOPLEi...  \n",
      "170  https://drive.google.com/file/d/17aT6hgZQOPLEi...  \n",
      "171  https://drive.google.com/file/d/17aT6hgZQOPLEi...  \n",
      "172  https://drive.google.com/file/d/17aT6hgZQOPLEi...  \n",
      "\n",
      "[173 rows x 14 columns]\n"
     ]
    }
   ],
   "source": [
    "# Add an ID column (starting from 1)\n",
    "df.insert(0, 'ID', range(1, len(df) + 1))\n",
    "\n",
    "print(df)"
   ]
  },
  {
   "cell_type": "code",
   "execution_count": 22,
   "metadata": {},
   "outputs": [
    {
     "data": {
      "text/plain": [
       "Index(['ID', 'ProductName', 'Nutrient_category', 'Description ', 'Contents',\n",
       "       'Formulated for', 'Suplements Facts', 'Suplements Facts Images',\n",
       "       'Product_Image', 'QR_Video', 'FORMULATION ADVANTAGE:',\n",
       "       'Amino Acid Profile Per Serving', 'Benefits', 'Pdf link '],\n",
       "      dtype='object')"
      ]
     },
     "execution_count": 22,
     "metadata": {},
     "output_type": "execute_result"
    }
   ],
   "source": [
    "df.columns"
   ]
  },
  {
   "cell_type": "code",
   "execution_count": 24,
   "metadata": {},
   "outputs": [
    {
     "data": {
      "text/html": [
       "<div>\n",
       "<style scoped>\n",
       "    .dataframe tbody tr th:only-of-type {\n",
       "        vertical-align: middle;\n",
       "    }\n",
       "\n",
       "    .dataframe tbody tr th {\n",
       "        vertical-align: top;\n",
       "    }\n",
       "\n",
       "    .dataframe thead th {\n",
       "        text-align: right;\n",
       "    }\n",
       "</style>\n",
       "<table border=\"1\" class=\"dataframe\">\n",
       "  <thead>\n",
       "    <tr style=\"text-align: right;\">\n",
       "      <th></th>\n",
       "      <th>ID</th>\n",
       "      <th>Formulated for</th>\n",
       "      <th>Contents</th>\n",
       "    </tr>\n",
       "  </thead>\n",
       "  <tbody>\n",
       "    <tr>\n",
       "      <th>0</th>\n",
       "      <td>1</td>\n",
       "      <td>EYE HEALTH</td>\n",
       "      <td>The eye is the organ most susceptible to oxida...</td>\n",
       "    </tr>\n",
       "    <tr>\n",
       "      <th>1</th>\n",
       "      <td>2</td>\n",
       "      <td>MOOD SUPPORT</td>\n",
       "      <td>5-hydroxytryptophan (5-HTP) is an amino acid t...</td>\n",
       "    </tr>\n",
       "    <tr>\n",
       "      <th>2</th>\n",
       "      <td>3</td>\n",
       "      <td>ENDOCRINE HEALTH</td>\n",
       "      <td>Extended periods of stress not only burden the...</td>\n",
       "    </tr>\n",
       "    <tr>\n",
       "      <th>3</th>\n",
       "      <td>4</td>\n",
       "      <td>ENDOCRINE HEALTH</td>\n",
       "      <td>Adren-All® is a powerful formulation that help...</td>\n",
       "    </tr>\n",
       "    <tr>\n",
       "      <th>4</th>\n",
       "      <td>5</td>\n",
       "      <td>ENDOCRINE HEALTH</td>\n",
       "      <td>Stress is defined as any disturbance (extreme ...</td>\n",
       "    </tr>\n",
       "  </tbody>\n",
       "</table>\n",
       "</div>"
      ],
      "text/plain": [
       "   ID    Formulated for                                           Contents\n",
       "0   1        EYE HEALTH  The eye is the organ most susceptible to oxida...\n",
       "1   2      MOOD SUPPORT  5-hydroxytryptophan (5-HTP) is an amino acid t...\n",
       "2   3  ENDOCRINE HEALTH  Extended periods of stress not only burden the...\n",
       "3   4  ENDOCRINE HEALTH  Adren-All® is a powerful formulation that help...\n",
       "4   5  ENDOCRINE HEALTH  Stress is defined as any disturbance (extreme ..."
      ]
     },
     "execution_count": 24,
     "metadata": {},
     "output_type": "execute_result"
    }
   ],
   "source": [
    "df = df[['ID', 'Formulated for', 'Contents']]\n",
    "df.head()"
   ]
  },
  {
   "cell_type": "code",
   "execution_count": 26,
   "metadata": {},
   "outputs": [],
   "source": [
    "from sklearn.feature_extraction.text import CountVectorizer\n",
    "cv=CountVectorizer(max_features=len(df), stop_words='english')\n"
   ]
  },
  {
   "cell_type": "code",
   "execution_count": 27,
   "metadata": {},
   "outputs": [],
   "source": [
    "tags_vector=cv.fit_transform(df['Formulated for'].values.astype('U')).toarray()"
   ]
  },
  {
   "cell_type": "code",
   "execution_count": 28,
   "metadata": {},
   "outputs": [
    {
     "data": {
      "text/plain": [
       "(173, 75)"
      ]
     },
     "execution_count": 28,
     "metadata": {},
     "output_type": "execute_result"
    }
   ],
   "source": [
    "tags_vector.shape"
   ]
  },
  {
   "cell_type": "code",
   "execution_count": 29,
   "metadata": {},
   "outputs": [],
   "source": [
    "from sklearn.metrics.pairwise import cosine_similarity\n",
    "similarity=cosine_similarity(tags_vector)"
   ]
  },
  {
   "cell_type": "code",
   "execution_count": 30,
   "metadata": {},
   "outputs": [
    {
     "data": {
      "text/plain": [
       "173"
      ]
     },
     "execution_count": 30,
     "metadata": {},
     "output_type": "execute_result"
    }
   ],
   "source": [
    "len(similarity[0])\n"
   ]
  },
  {
   "cell_type": "code",
   "execution_count": 35,
   "metadata": {},
   "outputs": [
    {
     "data": {
      "text/plain": [
       "0"
      ]
     },
     "execution_count": 35,
     "metadata": {},
     "output_type": "execute_result"
    }
   ],
   "source": [
    "df[df['Formulated for']==\"EYE HEALTH\"].index[0]"
   ]
  },
  {
   "cell_type": "code",
   "execution_count": 37,
   "metadata": {},
   "outputs": [
    {
     "name": "stdout",
     "output_type": "stream",
     "text": [
      "2 -->  ENDOCRINE HEALTH\n",
      "3 -->  ENDOCRINE HEALTH\n",
      "4 -->  ENDOCRINE HEALTH\n",
      "48 -->  ENDOCRINE \n",
      "HEALTH\n",
      "64 -->  ENDOCRINE HEALTH\n"
     ]
    }
   ],
   "source": [
    "sorted(list(enumerate(similarity[0])),reverse=True,key=lambda x:x[1])\n",
    "\n",
    "distance = sorted(list(enumerate(similarity[2])), reverse=True, key=lambda vector:vector[1])\n",
    "for i in distance[0:5]:\n",
    "    print(i[0], \"--> \",df.iloc[i[0]][\"Formulated for\"])"
   ]
  },
  {
   "cell_type": "code",
   "execution_count": 40,
   "metadata": {},
   "outputs": [],
   "source": [
    "def recommand(post):\n",
    "    index= df[df[\"Formulated for\"]==post].index[0]\n",
    "    distance = sorted(list(enumerate(similarity[index])), reverse=True, key=lambda vector:vector[1])\n",
    "    for i in distance[0:5]:\n",
    "        print(df.iloc[i[0]][\"Formulated for\"])"
   ]
  },
  {
   "cell_type": "code",
   "execution_count": 42,
   "metadata": {},
   "outputs": [
    {
     "name": "stdout",
     "output_type": "stream",
     "text": [
      "MOOD SUPPORT\n",
      "Mood Support\n",
      "ENDOCRINE HEALTH MOOD SUPPORT\n",
      "ENDOCRINE HEALTH MOOD SUPPORT\n",
      "Immune System Support\n"
     ]
    }
   ],
   "source": [
    "recommand(\"MOOD SUPPORT\")"
   ]
  },
  {
   "cell_type": "code",
   "execution_count": 43,
   "metadata": {},
   "outputs": [],
   "source": [
    "import pickle\n",
    "pickle.dump(df, open('social.pkl', 'wb'))\n",
    "pickle.dump(similarity, open('similarity.pkl', 'wb'))\n"
   ]
  },
  {
   "cell_type": "code",
   "execution_count": 44,
   "metadata": {},
   "outputs": [
    {
     "ename": "FileNotFoundError",
     "evalue": "[Errno 2] No such file or directory: 'movies_list.pkl'",
     "output_type": "error",
     "traceback": [
      "\u001b[1;31m---------------------------------------------------------------------------\u001b[0m",
      "\u001b[1;31mFileNotFoundError\u001b[0m                         Traceback (most recent call last)",
      "Cell \u001b[1;32mIn[44], line 1\u001b[0m\n\u001b[1;32m----> 1\u001b[0m pickle\u001b[38;5;241m.\u001b[39mload(\u001b[38;5;28;43mopen\u001b[39;49m\u001b[43m(\u001b[49m\u001b[38;5;124;43m'\u001b[39;49m\u001b[38;5;124;43mmovies_list.pkl\u001b[39;49m\u001b[38;5;124;43m'\u001b[39;49m\u001b[43m,\u001b[49m\u001b[43m \u001b[49m\u001b[38;5;124;43m'\u001b[39;49m\u001b[38;5;124;43mrb\u001b[39;49m\u001b[38;5;124;43m'\u001b[39;49m\u001b[43m)\u001b[49m)\n",
      "File \u001b[1;32m~\\AppData\\Local\\Packages\\PythonSoftwareFoundation.Python.3.11_qbz5n2kfra8p0\\LocalCache\\local-packages\\Python311\\site-packages\\IPython\\core\\interactiveshell.py:324\u001b[0m, in \u001b[0;36m_modified_open\u001b[1;34m(file, *args, **kwargs)\u001b[0m\n\u001b[0;32m    317\u001b[0m \u001b[38;5;28;01mif\u001b[39;00m file \u001b[38;5;129;01min\u001b[39;00m {\u001b[38;5;241m0\u001b[39m, \u001b[38;5;241m1\u001b[39m, \u001b[38;5;241m2\u001b[39m}:\n\u001b[0;32m    318\u001b[0m     \u001b[38;5;28;01mraise\u001b[39;00m \u001b[38;5;167;01mValueError\u001b[39;00m(\n\u001b[0;32m    319\u001b[0m         \u001b[38;5;124mf\u001b[39m\u001b[38;5;124m\"\u001b[39m\u001b[38;5;124mIPython won\u001b[39m\u001b[38;5;124m'\u001b[39m\u001b[38;5;124mt let you open fd=\u001b[39m\u001b[38;5;132;01m{\u001b[39;00mfile\u001b[38;5;132;01m}\u001b[39;00m\u001b[38;5;124m by default \u001b[39m\u001b[38;5;124m\"\u001b[39m\n\u001b[0;32m    320\u001b[0m         \u001b[38;5;124m\"\u001b[39m\u001b[38;5;124mas it is likely to crash IPython. If you know what you are doing, \u001b[39m\u001b[38;5;124m\"\u001b[39m\n\u001b[0;32m    321\u001b[0m         \u001b[38;5;124m\"\u001b[39m\u001b[38;5;124myou can use builtins\u001b[39m\u001b[38;5;124m'\u001b[39m\u001b[38;5;124m open.\u001b[39m\u001b[38;5;124m\"\u001b[39m\n\u001b[0;32m    322\u001b[0m     )\n\u001b[1;32m--> 324\u001b[0m \u001b[38;5;28;01mreturn\u001b[39;00m \u001b[43mio_open\u001b[49m\u001b[43m(\u001b[49m\u001b[43mfile\u001b[49m\u001b[43m,\u001b[49m\u001b[43m \u001b[49m\u001b[38;5;241;43m*\u001b[39;49m\u001b[43margs\u001b[49m\u001b[43m,\u001b[49m\u001b[43m \u001b[49m\u001b[38;5;241;43m*\u001b[39;49m\u001b[38;5;241;43m*\u001b[39;49m\u001b[43mkwargs\u001b[49m\u001b[43m)\u001b[49m\n",
      "\u001b[1;31mFileNotFoundError\u001b[0m: [Errno 2] No such file or directory: 'movies_list.pkl'"
     ]
    }
   ],
   "source": [
    "pickle.load(open('movies_list.pkl', 'rb'))"
   ]
  },
  {
   "cell_type": "code",
   "execution_count": null,
   "metadata": {},
   "outputs": [],
   "source": []
  }
 ],
 "metadata": {
  "kernelspec": {
   "display_name": "Python 3",
   "language": "python",
   "name": "python3"
  },
  "language_info": {
   "codemirror_mode": {
    "name": "ipython",
    "version": 3
   },
   "file_extension": ".py",
   "mimetype": "text/x-python",
   "name": "python",
   "nbconvert_exporter": "python",
   "pygments_lexer": "ipython3",
   "version": "3.11.9"
  }
 },
 "nbformat": 4,
 "nbformat_minor": 2
}
